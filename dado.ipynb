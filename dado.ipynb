{
 "cells": [
  {
   "cell_type": "code",
   "execution_count": 3,
   "metadata": {},
   "outputs": [],
   "source": [
    "#usa o pandas para abrir o csv\n",
    "import pandas as pd\n",
    "\n",
    "pns = pd.read_csv(\"pns2019.csv\")"
   ]
  },
  {
   "cell_type": "code",
   "execution_count": 54,
   "metadata": {},
   "outputs": [
    {
     "data": {
      "text/plain": [
       "['P00601',\n",
       " 'P00602',\n",
       " 'P00603',\n",
       " 'P00604',\n",
       " 'P00605',\n",
       " 'P00607',\n",
       " 'P00608',\n",
       " 'P00609',\n",
       " 'P00610',\n",
       " 'P00611',\n",
       " 'P00612',\n",
       " 'P00613',\n",
       " 'P00614',\n",
       " 'P00615',\n",
       " 'P00616',\n",
       " 'P00617',\n",
       " 'P00618',\n",
       " 'P00619',\n",
       " 'P00620',\n",
       " 'P00621',\n",
       " 'P00622',\n",
       " 'P00623',\n",
       " 'P006',\n",
       " 'P00901',\n",
       " 'P01101',\n",
       " 'P013',\n",
       " 'P015',\n",
       " 'P02001',\n",
       " 'P02101',\n",
       " 'P01601',\n",
       " 'P018',\n",
       " 'P019',\n",
       " 'P02002',\n",
       " 'P02102',\n",
       " 'P023',\n",
       " 'P02401',\n",
       " 'P02501',\n",
       " 'P02602',\n",
       " 'P02601']"
      ]
     },
     "execution_count": 54,
     "metadata": {},
     "output_type": "execute_result"
    }
   ],
   "source": [
    "#acha o codigo dos atributos que salvei em um txt\n",
    "\n",
    "import re\n",
    "\n",
    "pattern  = r'P\\d{2,}'\n",
    "regex = re.compile(pattern)\n",
    "\n",
    "codigos = []\n",
    "\n",
    "with open('perguntas.txt', 'r') as file:\n",
    "    for line in file:\n",
    "        matches = regex.findall(line)\n",
    "        if matches:\n",
    "            codigos.append(matches[0])\n",
    "codigos"
   ]
  },
  {
   "cell_type": "code",
   "execution_count": 51,
   "metadata": {},
   "outputs": [
    {
     "data": {
      "text/plain": [
       "P00601    0.309288\n",
       "P00602    0.309288\n",
       "P00603    0.309288\n",
       "P00604    0.309288\n",
       "P00605    0.309288\n",
       "P00607    0.309288\n",
       "P00608    0.309288\n",
       "P00609    0.309288\n",
       "P00610    0.309288\n",
       "P00611    0.309288\n",
       "P00612    0.309288\n",
       "P00613    0.309288\n",
       "P00614    0.309288\n",
       "P00615    0.309288\n",
       "P00616    0.309288\n",
       "P00617    0.309288\n",
       "P00618    0.309288\n",
       "P00619    0.309288\n",
       "P00620    0.309288\n",
       "P00621    0.309288\n",
       "P00622    0.309288\n",
       "P00623    0.309288\n",
       "P006      0.309288\n",
       "P00901    0.309288\n",
       "P01101    0.309288\n",
       "P013      0.309288\n",
       "P015      0.309288\n",
       "P02001    0.309288\n",
       "P02101    0.104506\n",
       "P01601    0.309288\n",
       "P018      0.309288\n",
       "P019      0.137560\n",
       "P02002    0.309288\n",
       "P02102    0.140212\n",
       "P023      0.309288\n",
       "P02401    0.214840\n",
       "P02501    0.309288\n",
       "P02602    0.309288\n",
       "P02601    0.309288\n",
       "dtype: float64"
      ]
     },
     "execution_count": 51,
     "metadata": {},
     "output_type": "execute_result"
    }
   ],
   "source": [
    "#calcula porcentagem nula\n",
    "(pns.shape[0] - pns[codigos].isnull().sum())/pns.shape[0]\n"
   ]
  },
  {
   "cell_type": "code",
   "execution_count": 55,
   "metadata": {},
   "outputs": [],
   "source": [
    "#dado filtrado\n",
    "dado_filtrado = pns[codigos]"
   ]
  }
 ],
 "metadata": {
  "kernelspec": {
   "display_name": "Python 3",
   "language": "python",
   "name": "python3"
  },
  "language_info": {
   "codemirror_mode": {
    "name": "ipython",
    "version": 3
   },
   "file_extension": ".py",
   "mimetype": "text/x-python",
   "name": "python",
   "nbconvert_exporter": "python",
   "pygments_lexer": "ipython3",
   "version": "3.12.0"
  }
 },
 "nbformat": 4,
 "nbformat_minor": 2
}
